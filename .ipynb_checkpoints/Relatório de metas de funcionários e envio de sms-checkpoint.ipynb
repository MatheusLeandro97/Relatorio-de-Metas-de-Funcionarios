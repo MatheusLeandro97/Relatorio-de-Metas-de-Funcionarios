{
 "cells": [
  {
   "cell_type": "code",
   "execution_count": 64,
   "metadata": {},
   "outputs": [],
   "source": [
    "#Importando Bibliotecas\n",
    "import pandas as pd\n",
    "from twilio.rest import Client"
   ]
  },
  {
   "cell_type": "code",
   "execution_count": 65,
   "metadata": {},
   "outputs": [],
   "source": [
    "#Para funcionar tem que fazer um cadastro na https://www.twilio.com/docs/libraries/python\n",
    "accountSid = 'AC7eebb1c0d6e90f10fd601726464562f7'; #ID da conta no twilio\n",
    "authToken = 'ddd1865c2ed7e0f55cc767de2cb556e5';    #O Token da conta no twilio\n",
    "client = Client(accountSid, authToken)\n"
   ]
  },
  {
   "cell_type": "code",
   "execution_count": 70,
   "metadata": {},
   "outputs": [
    {
     "name": "stdout",
     "output_type": "stream",
     "text": [
      "No mes de maio um funcionario bateu a meta. Vendedor: Hash, Número Vendas: R$57312.00\n",
      "SM6e2e6313d91d40da9ce38dcfe108bbbb\n"
     ]
    }
   ],
   "source": [
    "#Abrindo os arquivos em excel\n",
    "lista_meses = ['janeiro', 'fevereiro', 'março', 'abril', 'maio', 'junho']\n",
    "for mes in lista_meses:\n",
    "    tabela_vendas = pd.read_excel(f'{mes}.xlsx')\n",
    "    \n",
    "    #Se na tabela de vendas houver alguma linha com o valor maior de 55000...\n",
    "    if (tabela_vendas['Vendas'] > 55000).any():\n",
    "        \n",
    "        #Localizando vendedor \n",
    "        vendedor = tabela_vendas.loc[tabela_vendas['Vendas'] > 55000, 'Vendedor'].values[0]\n",
    "        \n",
    "        #Localizando o valor das vendas\n",
    "        vendas = tabela_vendas.loc[tabela_vendas['Vendas'] > 55000, 'Vendas'].values[0]\n",
    "        \n",
    "        #Mostrando o resultado da localizaçao\n",
    "        print(f'No mes de {mes} um funcionario bateu a meta. Vendedor: {vendedor}, Número Vendas: R${vendas:.2f}')\n",
    "        \n",
    "        #Mandando Mensagem...\n",
    "        message = client.messages.create(\n",
    "            #Para...\n",
    "            to=\"+5531973449569\",\n",
    "            #De...(tem que ser o numero fornecido pela twilio)\n",
    "            from_=\"+16162023081\",\n",
    "            #Mensagem que vai aparecer no celular da 'Pessoa'\n",
    "            body=f'No mes de {mes} um funcionario bateu a meta. Vendedor: Sr.{vendedor}, Número Vendas: R${vendas:.2f}')\n",
    "        print(message.sid)"
   ]
  },
  {
   "cell_type": "code",
   "execution_count": null,
   "metadata": {},
   "outputs": [],
   "source": []
  }
 ],
 "metadata": {
  "kernelspec": {
   "display_name": "Python 3.8.5 64-bit",
   "language": "python",
   "name": "python38564bitce9f12af34ae4dcb932a9fce91345577"
  },
  "language_info": {
   "codemirror_mode": {
    "name": "ipython",
    "version": 3
   },
   "file_extension": ".py",
   "mimetype": "text/x-python",
   "name": "python",
   "nbconvert_exporter": "python",
   "pygments_lexer": "ipython3",
   "version": "3.8.5"
  }
 },
 "nbformat": 4,
 "nbformat_minor": 4
}
